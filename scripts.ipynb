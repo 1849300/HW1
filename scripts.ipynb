{
 "cells": [
  {
   "cell_type": "markdown",
   "source": [
    "## 1.1"
   ],
   "metadata": {}
  },
  {
   "cell_type": "code",
   "execution_count": null,
   "source": [
    "if __name__ == '__main__':\n",
    "    print \"Hello, World!\""
   ],
   "outputs": [],
   "metadata": {}
  },
  {
   "cell_type": "markdown",
   "source": [
    "## 1.2"
   ],
   "metadata": {}
  },
  {
   "cell_type": "code",
   "execution_count": null,
   "source": [
    "#!/bin/python\n",
    "\n",
    "import math\n",
    "import os\n",
    "import random\n",
    "import re\n",
    "import sys\n",
    "\n",
    "if __name__ == '__main__':\n",
    "    n = int(raw_input().strip())\n",
    "if (n % 2 != 0):\n",
    "    print(\"Weird\")\n",
    "else:\n",
    "    if (n >= 2 and n <=5):\n",
    "        print(\"Not Weird\")\n",
    "    elif (n >= 6 and n <= 20):\n",
    "        print(\"Weird\")\n",
    "    else:\n",
    "        print(\"Not Weird\")\n"
   ],
   "outputs": [],
   "metadata": {}
  },
  {
   "cell_type": "markdown",
   "source": [
    "## 1.3"
   ],
   "metadata": {}
  },
  {
   "cell_type": "code",
   "execution_count": null,
   "source": [
    "if __name__ == '__main__':\n",
    "    a = int(raw_input())\n",
    "    b = int(raw_input())\n",
    "    print(a + b)\n",
    "    print(a - b)\n",
    "    print(a *b)\n"
   ],
   "outputs": [],
   "metadata": {}
  },
  {
   "cell_type": "markdown",
   "source": [
    "## 1.4"
   ],
   "metadata": {}
  },
  {
   "cell_type": "code",
   "execution_count": null,
   "source": [
    "from __future__ import division\n",
    "\n",
    "if __name__ == '__main__':\n",
    "    a = int(raw_input())\n",
    "    b = int(raw_input())\n",
    "\n",
    "print(a // b)\n",
    "print(a / b)\n"
   ],
   "outputs": [],
   "metadata": {}
  },
  {
   "cell_type": "markdown",
   "source": [
    "## 1.5"
   ],
   "metadata": {}
  },
  {
   "cell_type": "code",
   "execution_count": null,
   "source": [
    "if __name__ == '__main__':\n",
    "    n = int(raw_input())\n",
    "    for i in range(0, n):\n",
    "        print(i**2)\n"
   ],
   "outputs": [],
   "metadata": {}
  },
  {
   "cell_type": "markdown",
   "source": [
    "## 1.6"
   ],
   "metadata": {}
  },
  {
   "cell_type": "code",
   "execution_count": null,
   "source": [
    "def is_leap(year):\n",
    "    leap = False\n",
    "    \n",
    "    if(year % 4 == 0 and not(year % 100 == 0)):\n",
    "        leap = True\n",
    "    else:\n",
    "        if(year % 100 == 0):\n",
    "            if(year % 400 == 0):\n",
    "                leap =  True\n",
    "            else:\n",
    "                leap = False\n",
    "    \n",
    "    return leap\n"
   ],
   "outputs": [],
   "metadata": {}
  },
  {
   "cell_type": "markdown",
   "source": [
    "## 1.7"
   ],
   "metadata": {}
  },
  {
   "cell_type": "code",
   "execution_count": null,
   "source": [
    "from __future__ import print_function\n",
    "\n",
    "if __name__ == '__main__':\n",
    "    n = int(raw_input())\n",
    "\n",
    "for i in range(1, n+1):\n",
    "    print(i, end='')\n"
   ],
   "outputs": [],
   "metadata": {}
  },
  {
   "cell_type": "markdown",
   "source": [
    "## 2.1"
   ],
   "metadata": {}
  },
  {
   "cell_type": "code",
   "execution_count": null,
   "source": [
    "if __name__ == '__main__':\n",
    "    x = int(raw_input())\n",
    "    y = int(raw_input())\n",
    "    z = int(raw_input())\n",
    "    n = int(raw_input())\n",
    "    l = []\n",
    "    for i in range(0,x+1):\n",
    "        for j in range(0,y+1):\n",
    "            for k in range(0,z+1):\n",
    "                l.append([i, j, k])\n",
    "    out = [i for i in l if i[0]+i[1]+i[2]!=n]\n",
    "    print(out)\n"
   ],
   "outputs": [],
   "metadata": {}
  },
  {
   "cell_type": "markdown",
   "source": [
    "## 2.2"
   ],
   "metadata": {}
  },
  {
   "cell_type": "code",
   "execution_count": null,
   "source": [
    "if __name__ == '__main__':\n",
    "    n = int(raw_input())\n",
    "    arr = map(int, raw_input().split())\n",
    "    arr.sort(reverse = True)\n",
    "    best = arr[0]\n",
    "    i = 1;\n",
    "    out = best\n",
    "    while out == best:\n",
    "        if (arr[i] != best):\n",
    "            out = arr[i]\n",
    "        i +=1\n",
    "    print(out)\n"
   ],
   "outputs": [],
   "metadata": {}
  },
  {
   "cell_type": "markdown",
   "source": [
    "## 2.3"
   ],
   "metadata": {}
  },
  {
   "cell_type": "code",
   "execution_count": null,
   "source": [
    "if __name__ == '__main__':\n",
    "    stud = []\n",
    "    for _ in range(int(raw_input())):\n",
    "        name = raw_input()\n",
    "        score = float(raw_input())\n",
    "        stud.append([name, score])\n",
    "    grades = [x[1] for x in stud]\n",
    "    grades = set(grades)\n",
    "    grades = list(grades)\n",
    "    grades.sort()\n",
    "    slow = grades[1]\n",
    "    out = []\n",
    "    for el in stud:\n",
    "        if el[1] == slow:\n",
    "            out.append(el[0])\n",
    "    out.sort()\n",
    "    for el in out:\n",
    "        print(el)\n"
   ],
   "outputs": [],
   "metadata": {}
  },
  {
   "cell_type": "markdown",
   "source": [
    "## 2.4"
   ],
   "metadata": {}
  },
  {
   "cell_type": "code",
   "execution_count": null,
   "source": [
    "if __name__ == '__main__':\n",
    "    n = int(raw_input())\n",
    "    student_marks = {}\n",
    "    for _ in range(n):\n",
    "        line = raw_input().split()\n",
    "        name, scores = line[0], line[1:]\n",
    "        scores = map(float, scores)\n",
    "        student_marks[name] = scores\n",
    "    query_name = raw_input()\n",
    "    s = 0\n",
    "    l = len(student_marks[query_name])\n",
    "    for val in student_marks[query_name]:\n",
    "        s += val\n",
    "    print(format(s/l, '.2f'))\n"
   ],
   "outputs": [],
   "metadata": {}
  },
  {
   "cell_type": "markdown",
   "source": [
    "## 2.5"
   ],
   "metadata": {}
  },
  {
   "cell_type": "code",
   "execution_count": null,
   "source": [
    "if __name__ == '__main__':\n",
    "    N = int(raw_input())\n",
    "    l = []\n",
    "    for _ in range (0, N):\n",
    "        s = raw_input().split(\" \")\n",
    "        if s[0] == 'insert':\n",
    "            l.insert(int(s[1]), int(s[2]))\n",
    "        elif s[0] == 'print':\n",
    "            print(l)\n",
    "        elif s[0] == 'remove':\n",
    "            l.remove(int(s[1]))\n",
    "        elif s[0] == 'append':\n",
    "            l.append(int(s[1]))\n",
    "        elif s[0] == 'sort':\n",
    "            l.sort()\n",
    "        elif s[0] == 'pop':\n",
    "            l.pop()\n",
    "        else:\n",
    "            l.reverse()\n"
   ],
   "outputs": [],
   "metadata": {}
  },
  {
   "cell_type": "markdown",
   "source": [
    "## 2.6"
   ],
   "metadata": {}
  },
  {
   "cell_type": "code",
   "execution_count": null,
   "source": [
    "if __name__ == '__main__':\n",
    "    n = int(raw_input())\n",
    "    integer_list = map(int, raw_input().split())\n",
    "    t = tuple(integer_list)\n",
    "    print(hash(t))\n"
   ],
   "outputs": [],
   "metadata": {}
  },
  {
   "cell_type": "markdown",
   "source": [
    "## 3.1"
   ],
   "metadata": {}
  },
  {
   "cell_type": "code",
   "execution_count": null,
   "source": [
    "def swap_case(s):\n",
    "    ns = ''\n",
    "    for c in s:\n",
    "        if c.islower():\n",
    "            ns += c.upper()\n",
    "        elif c.isupper():\n",
    "            ns += c.lower()\n",
    "        else:\n",
    "            ns += c\n",
    "    return ns\n",
    "\n",
    "if __name__ == '__main__':\n",
    "    s = raw_input()\n",
    "    result = swap_case(s)\n",
    "    print result"
   ],
   "outputs": [],
   "metadata": {}
  },
  {
   "cell_type": "markdown",
   "source": [
    "## 3.2"
   ],
   "metadata": {}
  },
  {
   "cell_type": "code",
   "execution_count": null,
   "source": [
    "def split_and_join(line):\n",
    "    line = line.split(\" \")\n",
    "    line = \"-\".join(line)\n",
    "    return line\n",
    "\n",
    "if __name__ == '__main__':\n",
    "    line = raw_input()\n",
    "    result = split_and_join(line)\n",
    "    print result"
   ],
   "outputs": [],
   "metadata": {}
  },
  {
   "cell_type": "markdown",
   "source": [
    "## 3.3"
   ],
   "metadata": {}
  },
  {
   "cell_type": "code",
   "execution_count": null,
   "source": [
    "#\n",
    "# Complete the 'print_full_name' function below.\n",
    "#\n",
    "# The function is expected to return a STRING.\n",
    "# The function accepts following parameters:\n",
    "#  1. STRING first\n",
    "#  2. STRING last\n",
    "#\n",
    "\n",
    "def print_full_name(first, last):\n",
    "    s = \"Hello \" + first + \" \"+last+ \"! You just delved into python.\"\n",
    "    print s\n",
    "\n",
    "if __name__ == '__main__':\n",
    "    first_name = raw_input()\n",
    "    last_name = raw_input()\n",
    "    print_full_name(first_name, last_name)"
   ],
   "outputs": [],
   "metadata": {}
  },
  {
   "cell_type": "markdown",
   "source": [
    "## 3.4"
   ],
   "metadata": {}
  },
  {
   "cell_type": "code",
   "execution_count": null,
   "source": [
    "def mutate_string(string, position, character):\n",
    "    tmp = ''\n",
    "    for i in range(0, len(string)):\n",
    "        if i == position:\n",
    "            tmp += character\n",
    "        else:\n",
    "            tmp += s[i]\n",
    "    return tmp\n",
    "\n",
    "if __name__ == '__main__':\n",
    "    s = raw_input()\n",
    "    i, c = raw_input().split()\n",
    "    s_new = mutate_string(s, int(i), c)\n",
    "    print s_new"
   ],
   "outputs": [],
   "metadata": {}
  },
  {
   "cell_type": "markdown",
   "source": [
    "## 3.5"
   ],
   "metadata": {}
  },
  {
   "cell_type": "code",
   "execution_count": null,
   "source": [
    "def count_substring(string, sub_string):\n",
    "    cont = 0\n",
    "    for i in range (0, len(string)-len(sub_string)+1):\n",
    "        if string[i] == sub_string[0]:\n",
    "            for j in range(1, len(sub_string)):\n",
    "                if string[i+j] != sub_string[j]:\n",
    "                    break\n",
    "                else:\n",
    "                    if(j == len(sub_string)-1):\n",
    "                        cont += 1\n",
    "    return cont\n",
    "\n",
    "if __name__ == '__main__':\n",
    "    string = raw_input().strip()\n",
    "    sub_string = raw_input().strip()\n",
    "    \n",
    "    count = count_substring(string, sub_string)\n",
    "    print count"
   ],
   "outputs": [],
   "metadata": {}
  },
  {
   "cell_type": "markdown",
   "source": [
    "## 3.6"
   ],
   "metadata": {}
  },
  {
   "cell_type": "code",
   "execution_count": null,
   "source": [
    "if __name__ == '__main__':\n",
    "    s = raw_input()\n",
    "    alnum = False\n",
    "    al = False\n",
    "    dig = False\n",
    "    low = False\n",
    "    up = False\n",
    "    for c in s:\n",
    "        if c.isalnum():\n",
    "            alnum = True\n",
    "        if c.isalpha():\n",
    "            al = True\n",
    "        if c.isdigit():\n",
    "            dig = True\n",
    "        if c.islower():\n",
    "            low = True\n",
    "        if c.isupper():\n",
    "            up = True\n",
    "    print(alnum)\n",
    "    print(al)\n",
    "    print(dig)\n",
    "    print(low)\n",
    "    print(up)"
   ],
   "outputs": [],
   "metadata": {}
  },
  {
   "cell_type": "markdown",
   "source": [
    "## 3.7\n",
    "You are given a partial code that is used for generating the HackerRank Logo of variable thickness.\n",
    "Your task is to replace the blank (______) with rjust, ljust or center."
   ],
   "metadata": {}
  },
  {
   "cell_type": "code",
   "execution_count": null,
   "source": [
    "# Enter your code here. Read input from STDIN. Print output to STDOUT\n",
    "#Replace all ______ with rjust, ljust or center. \n",
    "\n",
    "thickness = int(raw_input()) #This must me an odd number\n",
    "c = 'H'\n",
    "\n",
    "#Top Cone\n",
    "for i in range(thickness):\n",
    "    print (c*i).rjust(thickness-1)+c+(c*i).ljust(thickness-1)\n",
    "\n",
    "#Top Pillars\n",
    "for i in range(thickness+1):\n",
    "    print (c*thickness).center(thickness*2)+(c*thickness).center(thickness*6)\n",
    "\n",
    "#Middle Belt\n",
    "for i in range((thickness+1)/2):\n",
    "    print (c*thickness*5).center(thickness*6)    \n",
    "\n",
    "#Bottom Pillars\n",
    "for i in range(thickness+1):\n",
    "    print (c*thickness).center(thickness*2)+(c*thickness).center(thickness*6)    \n",
    "\n",
    "#Bottom Cone\n",
    "for i in range(thickness):\n",
    "    print ((c*(thickness-i-1)).rjust(thickness)+c+(c*(thickness-i-1)).ljust(thickness)).rjust(thickness*6)\n"
   ],
   "outputs": [],
   "metadata": {}
  },
  {
   "cell_type": "markdown",
   "source": [
    "## 3.8"
   ],
   "metadata": {}
  },
  {
   "cell_type": "code",
   "execution_count": null,
   "source": [
    "import textwrap\n",
    "\n",
    "def wrap(string, max_width):\n",
    "    s = ''\n",
    "    j = 1\n",
    "    for i in range(0, len(string)):\n",
    "        s += string[i]\n",
    "        if j == max_width:\n",
    "            s += '\\n'\n",
    "            j = 1\n",
    "        else:\n",
    "            j += 1\n",
    "        \n",
    "    return s\n",
    "\n",
    "if __name__ == '__main__':\n",
    "    string, max_width = raw_input(), int(raw_input())\n",
    "    result = wrap(string, max_width)\n",
    "    print result"
   ],
   "outputs": [],
   "metadata": {}
  },
  {
   "cell_type": "markdown",
   "source": [
    "## 3.9"
   ],
   "metadata": {}
  },
  {
   "cell_type": "code",
   "execution_count": null,
   "source": [
    "# Enter your code here. Read input from STDIN. Print output to STDOUT\n",
    "N,M = raw_input().split(\" \")\n",
    "N = int(N)\n",
    "M = int(M)\n",
    "h_half = N // 2\n",
    "v_half = M //2\n",
    "g  = \".|.\"\n",
    "ng = 1\n",
    "#Stampa meta' superiore\n",
    "for i in range(1, h_half+1):\n",
    "    s = ''\n",
    "    for j in range(0, v_half-(((ng)*3)//2)):\n",
    "        s += '-'\n",
    "    gp = ''\n",
    "    for j in range(0, ng):\n",
    "        gp += g\n",
    "    print(s+gp+s)\n",
    "    ng += 2\n",
    "ng -= 2\n",
    "s = ''\n",
    "for i in range(0, v_half-3):\n",
    "    s += '-'\n",
    "tmp = s\n",
    "s += \"WELCOME\"\n",
    "s += tmp\n",
    "print(s)\n",
    "\n",
    "for i in range(1, h_half+1):\n",
    "    s = ''\n",
    "    for j in range(0, v_half-(((ng)*3)//2)):\n",
    "        s += '-'\n",
    "    gp = ''\n",
    "    for j in range(0, ng):\n",
    "        gp += g\n",
    "    print(s+gp+s)\n",
    "    ng -= 2\n"
   ],
   "outputs": [],
   "metadata": {}
  },
  {
   "cell_type": "markdown",
   "source": [
    "## 3.10"
   ],
   "metadata": {}
  },
  {
   "cell_type": "code",
   "execution_count": null,
   "source": [
    "def print_formatted(number):\n",
    "    l = []\n",
    "    for i in range(1, number+1):\n",
    "        tmp = [i, oct(i)[1:], hex(i)[2:], bin(i)[2:]]\n",
    "        l.append(tmp)\n",
    "    lu = len(l[number-1][3])\n",
    "    for el in l:\n",
    "        out = ' '*(lu-len(str(el[0])))\n",
    "        out += str(el[0])+' '\n",
    "        out += ' '*(lu-len(str(el[1])))\n",
    "        out += str(el[1])+ ' '\n",
    "        out += ' '*(lu-len(str(el[2])))\n",
    "        out += str(el[2]).upper()+' '\n",
    "        out += ' '*(lu-len(str(el[3])))\n",
    "        out += el[3]\n",
    "        print(out)\n",
    "        \n",
    "\n",
    "if __name__ == '__main__':\n",
    "    n = int(raw_input())\n",
    "    print_formatted(n)"
   ],
   "outputs": [],
   "metadata": {}
  },
  {
   "cell_type": "markdown",
   "source": [
    "## 3.11"
   ],
   "metadata": {}
  },
  {
   "cell_type": "code",
   "execution_count": null,
   "source": [
    "def print_rangoli(size):\n",
    "    alph = ['a', 'b', 'c', 'd', 'e', 'f', 'g', 'h', 'i', 'j', 'k', 'l', 'm', 'n', 'o', 'p', 'q', 'r', 's', 't', 'u', 'v', 'w', 'x', 'y', 'z']\n",
    "    cent = '-'.join(alph[:size][::-1])\n",
    "    cent += '-' + '-'.join(alph[1:size])\n",
    "    maxlen = len(cent)\n",
    "    cent += '\\n'\n",
    "    for i in range(1,size):\n",
    "        s = '-'.join(alph[i:size][::-1])\n",
    "        s += '-' + '-'.join(alph[i+1:size])\n",
    "        s = s.center(maxlen, '-')\n",
    "        cent += s + '\\n'\n",
    "    out = cent[maxlen+1:-1][::-1] + '\\n' + cent[:-1]\n",
    "    if size == 1:\n",
    "        print ('a')\n",
    "    else:\n",
    "        print(out)\n",
    "\n",
    "\n",
    "if __name__ == '__main__':\n",
    "    n = int(input())\n",
    "    print_rangoli(n)"
   ],
   "outputs": [],
   "metadata": {}
  },
  {
   "cell_type": "markdown",
   "source": [
    "## 3.12"
   ],
   "metadata": {}
  },
  {
   "cell_type": "code",
   "execution_count": null,
   "source": [
    "#!/bin/python\n",
    "\n",
    "import math\n",
    "import os\n",
    "import random\n",
    "import re\n",
    "import sys\n",
    "\n",
    "# Complete the solve function below.\n",
    "def solve(s):\n",
    "    c = s.split(' ')\n",
    "    for i in range(0, len(c)):\n",
    "        c[i] = c[i].capitalize()\n",
    "    return ' '.join(c)\n",
    "\n",
    "if __name__ == '__main__':\n",
    "    fptr = open(os.environ['OUTPUT_PATH'], 'w')\n",
    "\n",
    "    s = raw_input()\n",
    "\n",
    "    result = solve(s)\n",
    "\n",
    "    fptr.write(result + '\\n')\n",
    "\n",
    "    fptr.close()\n"
   ],
   "outputs": [],
   "metadata": {}
  },
  {
   "cell_type": "markdown",
   "source": [
    "## 3.13"
   ],
   "metadata": {}
  },
  {
   "cell_type": "code",
   "execution_count": null,
   "source": [
    "def minion_game(string):\n",
    "    voc = ['A', 'E', 'I', 'O', 'U']\n",
    "    p1 = 0\n",
    "    p2 = 0\n",
    "    for i in range(0, len(s)):\n",
    "        if s[i] in voc:\n",
    "            p1 += (len(s)-i)\n",
    "        else:\n",
    "            p2 += (len(s)-i)\n",
    "\n",
    "    if p1 > p2:\n",
    "        print(\"Kevin \" +str(p1))\n",
    "    elif p2> p1:\n",
    "        print(\"Stuart \" + str(p2))\n",
    "    else:\n",
    "        print(\"Draw\")\n",
    "\n",
    "if __name__ == '__main__':"
   ],
   "outputs": [],
   "metadata": {}
  },
  {
   "cell_type": "markdown",
   "source": [
    "## 3.14"
   ],
   "metadata": {}
  },
  {
   "cell_type": "code",
   "execution_count": null,
   "source": [
    "def merge_the_tools(string, k):\n",
    "    spstr = [string[i:i+k] for i in range(0, len(string), k)]\n",
    "    for el in spstr:\n",
    "        print(''.join(sorted(set(el), key=el.index)))\n",
    "\n",
    "if __name__ == '__main__':\n",
    "    string, k = input(), int(input())\n",
    "    merge_the_tools(string, k)"
   ],
   "outputs": [],
   "metadata": {}
  },
  {
   "cell_type": "markdown",
   "source": [
    "## 4.1"
   ],
   "metadata": {}
  },
  {
   "cell_type": "code",
   "execution_count": null,
   "source": [
    "def average(array):\n",
    "    nodup = list(dict.fromkeys(array))\n",
    "    return round(sum(nodup)/len(nodup), 3)\n",
    "\n",
    "if __name__ == '__main__':\n",
    "    n = int(input())\n",
    "    arr = list(map(int, input().split()))\n",
    "    result = average(arr)\n",
    "    print(result)"
   ],
   "outputs": [],
   "metadata": {}
  },
  {
   "cell_type": "markdown",
   "source": [
    "## 4.2"
   ],
   "metadata": {}
  },
  {
   "cell_type": "code",
   "execution_count": null,
   "source": [
    "N = input()\n",
    "a = set(input().split(' '))\n",
    "M = input()\n",
    "b = set(input().split(' '))\n",
    "\n",
    "fd = a.difference(b)\n",
    "sd = b.difference(a)\n",
    "out = fd.union(sd)\n",
    "out = [int(i) for i in out]\n",
    "out.sort()\n",
    "for el in out:\n",
    "    print(el)"
   ],
   "outputs": [],
   "metadata": {}
  },
  {
   "cell_type": "markdown",
   "source": [
    "## 4.3"
   ],
   "metadata": {}
  },
  {
   "cell_type": "code",
   "execution_count": null,
   "source": [
    "n, m = input().split(' ')\n",
    "a = input().split(' ')\n",
    "A = set(input().split(' '))\n",
    "B = set(input().split(' '))\n",
    "h = 0\n",
    "for el in a:\n",
    "    if el in A: h += 1\n",
    "    elif el in B: h -=1\n",
    "print(h)"
   ],
   "outputs": [],
   "metadata": {}
  },
  {
   "cell_type": "markdown",
   "source": [
    "## 4.4"
   ],
   "metadata": {}
  },
  {
   "cell_type": "code",
   "execution_count": null,
   "source": [
    "N = input()\n",
    "s = set()\n",
    "for _ in range(int(N)):\n",
    "    s.add(input())\n",
    "print(len(s))"
   ],
   "outputs": [],
   "metadata": {}
  },
  {
   "cell_type": "markdown",
   "source": [
    "## 4.5"
   ],
   "metadata": {}
  },
  {
   "cell_type": "code",
   "execution_count": null,
   "source": [
    "n = int(input())\n",
    "s = set(map(int, input().split()))\n",
    "N = int(input())\n",
    "for i in range(N):\n",
    "    ist = input().split(' ')\n",
    "    if ist[0] == \"pop\":\n",
    "        s.pop()\n",
    "    elif ist[0] == \"remove\":\n",
    "        s.remove(int(ist[1]))\n",
    "    else: #discard\n",
    "        s.discard(int(ist[1]))\n",
    "if len(s) == 0:\n",
    "    print (0)\n",
    "else:\n",
    "    print(sum(s))"
   ],
   "outputs": [],
   "metadata": {}
  },
  {
   "cell_type": "markdown",
   "source": [
    "## 4.6"
   ],
   "metadata": {}
  },
  {
   "cell_type": "code",
   "execution_count": null,
   "source": [
    "_ = input()\n",
    "e = set(map(int, input().split()))\n",
    "_ = input()\n",
    "f = set(map(int, input().split()))\n",
    "print(len(e.union(f)))\n"
   ],
   "outputs": [],
   "metadata": {}
  },
  {
   "cell_type": "markdown",
   "source": [
    "## 4.7"
   ],
   "metadata": {}
  },
  {
   "cell_type": "code",
   "execution_count": null,
   "source": [
    "_ = input()\n",
    "e = set(map(int, input().split()))\n",
    "_ = input()\n",
    "f = set(map(int, input().split()))\n",
    "print(len(e.intersection(f)))"
   ],
   "outputs": [],
   "metadata": {}
  },
  {
   "cell_type": "markdown",
   "source": [
    "## 4.8"
   ],
   "metadata": {}
  },
  {
   "cell_type": "code",
   "execution_count": null,
   "source": [
    "_ = input()\n",
    "e = set(map(int, input().split()))\n",
    "_ = input()\n",
    "f = set(map(int, input().split()))\n",
    "print(len(e.difference(f)))"
   ],
   "outputs": [],
   "metadata": {}
  },
  {
   "cell_type": "markdown",
   "source": [
    "## 4.9"
   ],
   "metadata": {}
  },
  {
   "cell_type": "code",
   "execution_count": null,
   "source": [
    "_ = input()\n",
    "e = set(map(int, input().split()))\n",
    "_ = input()\n",
    "f = set(map(int, input().split()))\n",
    "print(len(e.symmetric_difference(f)))"
   ],
   "outputs": [],
   "metadata": {}
  },
  {
   "cell_type": "markdown",
   "source": [
    "## 4.10"
   ],
   "metadata": {}
  },
  {
   "cell_type": "code",
   "execution_count": null,
   "source": [
    "_ = input()\n",
    "e = set(map(int, input().split()))\n",
    "N = int(input())\n",
    "for _ in range(N):\n",
    "    inp = input().split(' ')\n",
    "    s = set(map(int, input().split()))\n",
    "    if inp[0] == \"intersection_update\":\n",
    "        e.intersection_update(s)\n",
    "    elif inp[0] == \"update\":\n",
    "        e.update(s)\n",
    "    elif inp[0] == \"symmetric_difference_update\":\n",
    "        e.symmetric_difference_update(s)\n",
    "    elif inp[0] == \"difference_update\":\n",
    "        e.difference_update(s)\n",
    "print(sum(e))"
   ],
   "outputs": [],
   "metadata": {}
  },
  {
   "cell_type": "markdown",
   "source": [
    "## 4.11"
   ],
   "metadata": {}
  },
  {
   "cell_type": "code",
   "execution_count": null,
   "source": [
    "_ = input()\n",
    "d = dict()\n",
    "for el in input().split():\n",
    "    if el in d.keys():\n",
    "        d[el] += 1\n",
    "    else:\n",
    "        d[el] = 1\n",
    "print(min(d, key=d.get))\n"
   ],
   "outputs": [],
   "metadata": {}
  },
  {
   "cell_type": "markdown",
   "source": [
    "## 4.12"
   ],
   "metadata": {}
  },
  {
   "cell_type": "code",
   "execution_count": null,
   "source": [
    "for _ in range(int(input())):\n",
    "    _ = input()\n",
    "    a = set(map(int, input().split(' ')))\n",
    "    _ = input()\n",
    "    b = set(map(int, input().split(' ')))\n",
    "    print(a.issubset(b))"
   ],
   "outputs": [],
   "metadata": {}
  },
  {
   "cell_type": "markdown",
   "source": [
    "## 4.13"
   ],
   "metadata": {}
  },
  {
   "cell_type": "code",
   "execution_count": null,
   "source": [
    "a = set(map(int, input().split()))\n",
    "ss = True\n",
    "for _ in range(int(input())):\n",
    "    b = set(map(int, input().split(' ')))\n",
    "    if not a.issuperset(b):\n",
    "        ss = False\n",
    "        break\n",
    "print(ss)"
   ],
   "outputs": [],
   "metadata": {}
  },
  {
   "cell_type": "markdown",
   "source": [
    "## 5.1"
   ],
   "metadata": {}
  },
  {
   "cell_type": "code",
   "execution_count": null,
   "source": [
    "from collections import Counter\n",
    "_ = input()\n",
    "l = list(map(int, input().split()))\n",
    "c = dict(Counter(l))\n",
    "m = 0\n",
    "for _ in range(int(input())):\n",
    "    inp = list(map(int, input().split()))\n",
    "    if inp[0] in c.keys() and c[inp[0]] > 0:\n",
    "        c[inp[0]] -= 1\n",
    "        m += inp[1]\n",
    "print(m)\n"
   ],
   "outputs": [],
   "metadata": {}
  },
  {
   "cell_type": "markdown",
   "source": [
    "## 5.2"
   ],
   "metadata": {}
  },
  {
   "cell_type": "code",
   "execution_count": null,
   "source": [
    "from collections import defaultdict\n",
    "n = input().split()\n",
    "m = int(n[1])\n",
    "n = int(n[0])\n",
    "a = defaultdict(list)\n",
    "b = []\n",
    "for i in range(n):\n",
    "    inp = input()\n",
    "    j = i+1\n",
    "    a[inp].append(str(j))\n",
    "\n",
    "for _ in range(m):\n",
    "    inp = input()\n",
    "    if inp in a.keys():\n",
    "        print(' '.join(a[inp]))\n",
    "    else:\n",
    "        print(-1)\n"
   ],
   "outputs": [],
   "metadata": {}
  },
  {
   "cell_type": "markdown",
   "source": [
    "## 5.3"
   ],
   "metadata": {}
  },
  {
   "cell_type": "code",
   "execution_count": null,
   "source": [
    "from collections import namedtuple\n",
    "N = int(input())\n",
    "c_name = input().split()\n",
    "ind = c_name.index(\"MARKS\")\n",
    "v = 0\n",
    "for _ in range(N):\n",
    "    inp = input().split()\n",
    "    v += int(inp[ind])\n",
    "print('{0:.2f}'.format(v/N))"
   ],
   "outputs": [],
   "metadata": {}
  },
  {
   "cell_type": "markdown",
   "source": [
    "## 5.4"
   ],
   "metadata": {}
  },
  {
   "cell_type": "code",
   "execution_count": null,
   "source": [
    "from collections import OrderedDict\n",
    "\n",
    "od = OrderedDict()\n",
    "for i in range(int(input())):\n",
    "    inp = input().split()\n",
    "    n = ' '.join(inp[:-1])\n",
    "    p = int(inp[-1])\n",
    "    if n in od.keys():\n",
    "        od[n] += p\n",
    "    else:\n",
    "        od[n] = p\n",
    "\n",
    "for el in od.keys():\n",
    "    print(el, od[el])"
   ],
   "outputs": [],
   "metadata": {}
  },
  {
   "cell_type": "markdown",
   "source": [
    "## 5.5"
   ],
   "metadata": {}
  },
  {
   "cell_type": "code",
   "execution_count": null,
   "source": [
    "from collections import OrderedDict\n",
    "\n",
    "od = OrderedDict()\n",
    "s = set()\n",
    "for i in range(int(input())):\n",
    "    w = input()\n",
    "    s.add(w)\n",
    "    if w in od.keys():\n",
    "        od[w] += 1\n",
    "    else:\n",
    "        od[w] = 1\n",
    "\n",
    "print(len(s))\n",
    "for el in od.keys():\n",
    "    print(od[el], end=' ')"
   ],
   "outputs": [],
   "metadata": {}
  },
  {
   "cell_type": "markdown",
   "source": [
    "## 5.6"
   ],
   "metadata": {}
  },
  {
   "cell_type": "code",
   "execution_count": null,
   "source": [
    "from collections import deque\n",
    "\n",
    "d = deque()\n",
    "for _ in range(int(input())):\n",
    "    inp = input().split()\n",
    "    if inp[0] == \"append\":\n",
    "        d.append(inp[1])\n",
    "    elif inp[0] == \"appendleft\":\n",
    "        d.appendleft(inp[1])\n",
    "    elif inp[0] == \"pop\":\n",
    "        d.pop()\n",
    "    else:\n",
    "        d.popleft()\n",
    "print (\" \".join(map(str, d)))"
   ],
   "outputs": [],
   "metadata": {}
  },
  {
   "cell_type": "markdown",
   "source": [
    "## 5.7"
   ],
   "metadata": {}
  },
  {
   "cell_type": "code",
   "execution_count": null,
   "source": [
    "#!/bin/python3\n",
    "\n",
    "import math\n",
    "import os\n",
    "import random\n",
    "import re\n",
    "import sys\n",
    "\n",
    "\n",
    "\n",
    "if __name__ == '__main__':\n",
    "    s = input()\n",
    "    d = dict()\n",
    "    for c in s:\n",
    "        if c not in d.keys():\n",
    "            d[c] = 1\n",
    "        else:\n",
    "            d[c] += 1\n",
    "    d = dict(sorted(d.items(), key=lambda item: item[0]))\n",
    "    o = dict()\n",
    "    for _ in range(3):\n",
    "        m = max(d, key=d.get)\n",
    "        o[m] = d[m]\n",
    "        d.pop(m)\n",
    "\n",
    "    o = dict(sorted(o.items(), key=lambda item: item[1], reverse=True))\n",
    "    for el in o.keys():\n",
    "        print(el, o[el])"
   ],
   "outputs": [],
   "metadata": {}
  },
  {
   "cell_type": "markdown",
   "source": [
    "## 5.8"
   ],
   "metadata": {}
  },
  {
   "cell_type": "code",
   "execution_count": null,
   "source": [
    "def stack (n, b):\n",
    "    out = True\n",
    "    last = max(b[0], b[len(b)-1])\n",
    "    if last == b[len(b)-1]:\n",
    "        b.pop()\n",
    "    else:\n",
    "        b.pop(0)\n",
    "    while out and len(b) > 0:\n",
    "        m = max(b[0], b[len(b)-1])\n",
    "        if m > last:\n",
    "            out = False\n",
    "        else:\n",
    "            b.pop() if m == b[len(b)-1] else b.pop(0)\n",
    "    return out\n",
    "        \n",
    "\n",
    "for _ in range(int(input())):\n",
    "    n = int(input())\n",
    "    blocks = list(map(int, input().split()))\n",
    "    if stack(n, blocks):\n",
    "        print(\"Yes\")\n",
    "    else:\n",
    "        print(\"No\")\n"
   ],
   "outputs": [],
   "metadata": {}
  },
  {
   "cell_type": "markdown",
   "source": [
    "## 6.1"
   ],
   "metadata": {}
  },
  {
   "cell_type": "code",
   "execution_count": null,
   "source": [
    "import calendar\n",
    "\n",
    "m, d, y = map(int, input().split())\n",
    "days = list(map(str, calendar.day_name))\n",
    "print(days[calendar.weekday(y, m, d)].upper())"
   ],
   "outputs": [],
   "metadata": {}
  },
  {
   "cell_type": "markdown",
   "source": [
    "## 6.2"
   ],
   "metadata": {}
  },
  {
   "cell_type": "code",
   "execution_count": null,
   "source": [
    "#!/bin/python3\n",
    "\n",
    "from datetime import datetime\n",
    "import math\n",
    "import os\n",
    "import random\n",
    "import re\n",
    "import sys\n",
    "\n",
    "# Complete the time_delta function below.\n",
    "def time_delta(t1, t2):\n",
    "    d1 = datetime.strptime(t1, \"%a %d %b %Y %H:%M:%S %z\")\n",
    "    d2 = datetime.strptime(t2, \"%a %d %b %Y %H:%M:%S %z\")\n",
    "    return str(int(abs((d2 - d1).total_seconds())))\n",
    "\n",
    "if __name__ == '__main__':\n",
    "    fptr = open(os.environ['OUTPUT_PATH'], 'w')\n",
    "\n",
    "    t = int(input())\n",
    "\n",
    "    for t_itr in range(t):\n",
    "        t1 = input()\n",
    "\n",
    "        t2 = input()\n",
    "\n",
    "        delta = time_delta(t1, t2) # \n",
    "\n",
    "        fptr.write(delta + '\\n')\n",
    "\n",
    "    fptr.close()\n"
   ],
   "outputs": [],
   "metadata": {}
  },
  {
   "cell_type": "markdown",
   "source": [
    "## 7.1"
   ],
   "metadata": {}
  },
  {
   "cell_type": "markdown",
   "source": [
    "for _ in range(int(input())):\n",
    "    a, b = input().split()\n",
    "    try:\n",
    "        res = int(a)/int(b)\n",
    "        print(int(res))\n",
    "    except ZeroDivisionError as z:\n",
    "        print(\"Error Code: integer division or modulo by zero\")\n",
    "    except ValueError as v:\n",
    "        print(\"Error Code:\", v)\n",
    "        "
   ],
   "metadata": {}
  },
  {
   "cell_type": "markdown",
   "source": [
    "## 8.1"
   ],
   "metadata": {}
  },
  {
   "cell_type": "code",
   "execution_count": null,
   "source": [
    "m, n = map(int, input().split())\n",
    "l = []\n",
    "for _ in range(n):\n",
    "    g = list(map(float, input().split()))\n",
    "    l.append(g)\n",
    "for i in zip(*l): \n",
    "    print(sum(i)/len(i))\n"
   ],
   "outputs": [],
   "metadata": {}
  },
  {
   "cell_type": "markdown",
   "source": [
    "## 8.2"
   ],
   "metadata": {}
  },
  {
   "cell_type": "code",
   "execution_count": null,
   "source": [
    "#!/bin/python3\n",
    "\n",
    "import math\n",
    "import os\n",
    "import random\n",
    "import re\n",
    "import sys\n",
    "\n",
    "\n",
    "\n",
    "if __name__ == '__main__':\n",
    "    nm = input().split()\n",
    "\n",
    "    n = int(nm[0])\n",
    "\n",
    "    m = int(nm[1])\n",
    "\n",
    "    arr = []\n",
    "\n",
    "    for _ in range(n):\n",
    "        arr.append(list(map(int, input().rstrip().split())))\n",
    "\n",
    "    k = int(input())\n",
    "#Ordinare secondo i k-esimo attributo gli n atleti con m atrtibuti\n",
    "arr = sorted(arr, key=lambda item: item[k])\n",
    "for el in arr: print(' '.join(map(str, el)))"
   ],
   "outputs": [],
   "metadata": {}
  },
  {
   "cell_type": "markdown",
   "source": [
    "## 8.3"
   ],
   "metadata": {}
  },
  {
   "cell_type": "code",
   "execution_count": null,
   "source": [
    "s = input()\n",
    "out = ''\n",
    "v = sorted(s)\n",
    "nl = []\n",
    "for el in v:\n",
    "    if el.islower():\n",
    "        out += el\n",
    "    else:\n",
    "        nl.append(el)\n",
    "nlu = []\n",
    "for el in nl:\n",
    "    if el.isupper():\n",
    "        out += el\n",
    "    else:\n",
    "        nlu.append(el)\n",
    "nluo = []\n",
    "for el in nlu:\n",
    "    if int(el) % 2 != 0:\n",
    "        out += el\n",
    "    else:\n",
    "        nluo.append(el)\n",
    "for el in nluo:\n",
    "    out += el\n",
    "print(out)"
   ],
   "outputs": [],
   "metadata": {}
  },
  {
   "cell_type": "markdown",
   "source": [
    "## 9.1"
   ],
   "metadata": {}
  },
  {
   "cell_type": "code",
   "execution_count": null,
   "source": [
    "cube = lambda x: x**3\n",
    "\n",
    "def fibonacci(n):\n",
    "    out = [0]\n",
    "    if n == 0:\n",
    "        return list()\n",
    "    elif n == 1:\n",
    "        return list(out)\n",
    "    else:\n",
    "        out.append(1)\n",
    "        for _ in range(2, n):\n",
    "            out.append(out[len(out)-1] + out[len(out)-2])\n",
    "        return out\n",
    "    \n",
    "    \n",
    "\n",
    "if __name__ == '__main__':\n",
    "    n = int(input())\n",
    "    print(list(map(cube, fibonacci(n))))"
   ],
   "outputs": [],
   "metadata": {}
  },
  {
   "cell_type": "markdown",
   "source": [
    "## 10.1"
   ],
   "metadata": {}
  },
  {
   "cell_type": "code",
   "execution_count": null,
   "source": [
    "import re\n",
    "\n",
    "for _ in range(int(input())):\n",
    "    print(bool(re.match(r\"^[+-]?[0-9]*\\.[0-9]+$\", input())))"
   ],
   "outputs": [],
   "metadata": {}
  },
  {
   "cell_type": "markdown",
   "source": [
    "## 10.2"
   ],
   "metadata": {}
  },
  {
   "cell_type": "code",
   "execution_count": null,
   "source": [
    "regex_pattern = r\"[,.]\"\t# Do not delete 'r'.\n",
    "\n",
    "import re\n",
    "print(\"\\n\".join(re.split(regex_pattern, input())))"
   ],
   "outputs": [],
   "metadata": {}
  },
  {
   "cell_type": "markdown",
   "source": [
    "## 10.3"
   ],
   "metadata": {}
  },
  {
   "cell_type": "code",
   "execution_count": null,
   "source": [
    "import re\n",
    "m = re.search(r\"([0-9A-Za-z])\\1{1,}\", input())\n",
    "if m:\n",
    "    print(m.group(1))\n",
    "else:\n",
    "    print(-1)"
   ],
   "outputs": [],
   "metadata": {}
  },
  {
   "cell_type": "markdown",
   "source": [
    "## 10.4"
   ],
   "metadata": {}
  },
  {
   "cell_type": "code",
   "execution_count": null,
   "source": [
    "import re\n",
    "\n",
    "\n",
    "v = \"aeiou\"\n",
    "c = \"qwrtypsdfghjklzxcvbnm\"\n",
    "m = re.findall(r\"(?<=[%s])([%s]{2,})[%s]\" % (c, v, c), input(), flags = re.I)\n",
    "\n",
    "if any(m):\n",
    "    for el in m:\n",
    "        print(el)\n",
    "else:\n",
    "    print(-1)"
   ],
   "outputs": [],
   "metadata": {}
  },
  {
   "cell_type": "markdown",
   "source": [
    "## 10.5\n",
    "I saw the solution, without pattern.search() didn't work and the theory on start() and end() didn't explain that way to use search function"
   ],
   "metadata": {}
  },
  {
   "cell_type": "code",
   "execution_count": null,
   "source": [
    "import re\n",
    "s = input()\n",
    "k = input()\n",
    "pattern = re.compile(k)\n",
    "r = pattern.search(s)\n",
    "if not r: print ((-1, -1))\n",
    "else:\n",
    "    while r:\n",
    "        print ((r.start(), r.end() - 1))\n",
    "        r = pattern.search(s, r.start() + 1)\n"
   ],
   "outputs": [],
   "metadata": {}
  },
  {
   "cell_type": "markdown",
   "source": [
    "## 10.6"
   ],
   "metadata": {}
  },
  {
   "cell_type": "code",
   "execution_count": null,
   "source": [
    "import re\n",
    "\n",
    "def rep(match):\n",
    "    sym = match.group(0)\n",
    "    return \"and\" if sym == \"&&\" else \"or\"\n",
    "\n",
    "for _ in range(int(input())):\n",
    "    print (re.sub(r\"(?<= )(&&|\\|\\|)(?= )\", rep, input()))"
   ],
   "outputs": [],
   "metadata": {}
  },
  {
   "cell_type": "markdown",
   "source": [
    "## 10.7"
   ],
   "metadata": {}
  },
  {
   "cell_type": "code",
   "execution_count": null,
   "source": [
    "regex_pattern = r\"^M{0,3}(D?C{0,3}|C(D|M))(L?X{0,3}|X(L|C))(V?I{0,3}|I(V|X))$\"\t# Do not delete 'r'.\n",
    "\n",
    "import re\n",
    "print(str(bool(re.match(regex_pattern, input()))))"
   ],
   "outputs": [],
   "metadata": {}
  },
  {
   "cell_type": "markdown",
   "source": [
    "## 10.8"
   ],
   "metadata": {}
  },
  {
   "cell_type": "code",
   "execution_count": null,
   "source": [
    "import re\n",
    "\n",
    "for _ in range(int(input())):\n",
    "    inp = input()\n",
    "    if len(inp) == 10 and re.match(r\"^[7-9][0-9]*$\", inp):\n",
    "        print(\"YES\")\n",
    "    else:\n",
    "        print(\"NO\")"
   ],
   "outputs": [],
   "metadata": {}
  },
  {
   "cell_type": "markdown",
   "source": [
    "## 10.9"
   ],
   "metadata": {}
  },
  {
   "cell_type": "code",
   "execution_count": null,
   "source": [
    "import re\n",
    "import email.utils\n",
    "\n",
    "for _ in range(int(input())):\n",
    "    inp = input()\n",
    "    tup = email.utils.parseaddr(inp)\n",
    "    if re.match(r\"[a-z0-9]+[a-z0-9._-]*@[a-z]+\\.[a-z]{1,3}$\", tup[1]):\n",
    "        print(inp)"
   ],
   "outputs": [],
   "metadata": {}
  },
  {
   "cell_type": "markdown",
   "source": [
    "## 10.10"
   ],
   "metadata": {}
  },
  {
   "cell_type": "code",
   "execution_count": null,
   "source": [
    "import re\n",
    "\n",
    "for _ in range(int(input())):\n",
    "    m = re.findall(r\"(:|,| +)(#[abcdefABCDEF1234567890]{3}|#[abcdefABCDEF1234567890]{6})\\b\", input())\n",
    "    if m:\n",
    "        for el in m:\n",
    "            print(el[1])\n",
    "        "
   ],
   "outputs": [],
   "metadata": {}
  },
  {
   "cell_type": "markdown",
   "source": [
    "## 10.11"
   ],
   "metadata": {}
  },
  {
   "cell_type": "code",
   "execution_count": null,
   "source": [
    "import re\n",
    "import html\n",
    "from html.parser import HTMLParser\n",
    "\n",
    "class MyHTMLParser(HTMLParser):\n",
    "    def handle_starttag(self, tag, attrs):\n",
    "        print (\"Start :\", tag)\n",
    "        for el in attrs:\n",
    "            print(\"->\", el[0], \">\", el[1])\n",
    "    def handle_endtag(self, tag):\n",
    "        print (\"End   :\", tag)\n",
    "    def handle_startendtag(self, tag, attrs):\n",
    "        print (\"Empty :\", tag)\n",
    "        for el in attrs:\n",
    "            print(\"->\", el[0], \">\", el[1])\n",
    "\n",
    "            \n",
    "parser = MyHTMLParser()\n",
    "for _ in range(int(input())):\n",
    "    parser.feed(input())\n",
    "  \n"
   ],
   "outputs": [],
   "metadata": {}
  },
  {
   "cell_type": "markdown",
   "source": [
    "## 10.12"
   ],
   "metadata": {}
  },
  {
   "cell_type": "code",
   "execution_count": null,
   "source": [
    "from html.parser import HTMLParser\n",
    "import re\n",
    "\n",
    "class MyHTMLParser(HTMLParser):\n",
    "    def handle_comment(self, data):\n",
    "        number_of_line = len(data.split('\\n'))\n",
    "        if number_of_line>1:\n",
    "            print('>>> Multi-line Comment')\n",
    "        else:\n",
    "            print('>>> Single-line Comment')\n",
    "        if data.strip():\n",
    "            print(data)\n",
    "    \n",
    "    def handle_data(self, data):\n",
    "        if data.strip():\n",
    "            print(\">>> Data\")\n",
    "            print(data)\n",
    "  \n",
    "\n",
    "html = \"\"       \n",
    "for i in range(int(input())):\n",
    "    html += input().rstrip()\n",
    "    html += '\\n'\n",
    "    \n",
    "parser = MyHTMLParser()\n",
    "parser.feed(html)\n",
    "parser.close()\n"
   ],
   "outputs": [],
   "metadata": {}
  },
  {
   "cell_type": "markdown",
   "source": [
    "## 10.13"
   ],
   "metadata": {}
  },
  {
   "cell_type": "code",
   "execution_count": null,
   "source": [
    "import re\n",
    "import html\n",
    "from html.parser import HTMLParser\n",
    "\n",
    "class MyHTMLParser(HTMLParser):\n",
    "    def handle_starttag(self, tag, attrs):\n",
    "        print (tag)\n",
    "        for el in attrs:\n",
    "            print(\"->\", el[0], \">\", el[1])\n",
    "    \n",
    "    def handle_startendtag(self, tag, attrs):\n",
    "        print (tag)\n",
    "        for el in attrs:\n",
    "            print(\"->\", el[0], \">\", el[1])\n",
    "\n",
    "            \n",
    "parser = MyHTMLParser()\n",
    "for _ in range(int(input())):\n",
    "    parser.feed(input())\n",
    "  \n"
   ],
   "outputs": [],
   "metadata": {}
  },
  {
   "cell_type": "markdown",
   "source": [
    "## 10.14"
   ],
   "metadata": {}
  },
  {
   "cell_type": "code",
   "execution_count": null,
   "source": [
    "import re\n",
    "\n",
    "for _ in range(int(input())):\n",
    "    inp = ''.join(sorted(input()))\n",
    "    if re.search(r'[A-Z]{2}', inp) and re.search(r'\\d\\d\\d', inp) and  not re.search(r'[^a-zA-Z0-9]', inp) and not re.search(r'(.)\\1', inp) and len(inp) == 10:\n",
    "        print(\"Valid\")\n",
    "    else:\n",
    "        print(\"Invalid\")"
   ],
   "outputs": [],
   "metadata": {}
  },
  {
   "cell_type": "markdown",
   "source": [
    "## 10.15"
   ],
   "metadata": {}
  },
  {
   "cell_type": "code",
   "execution_count": null,
   "source": [
    "import re\n",
    "\n",
    "for _ in range(int(input())):\n",
    "    inp = input()\n",
    "    if re.match(r\"[4-6][0-9]{3}\\-[0-9]{4}\\-[0-9]{4}\\-[0-9]{4}$\", inp) or re.match(r\"[4-6][0-9]{15}$\", inp):\n",
    "        inp = inp.replace('-', '')\n",
    "        if not re.search(r\"((\\d)\\2{3,})\", inp):\n",
    "            print(\"Valid\")\n",
    "        else:\n",
    "            print(\"Invalid\")\n",
    "    else:\n",
    "        print(\"Invalid\")"
   ],
   "outputs": [],
   "metadata": {}
  },
  {
   "cell_type": "markdown",
   "source": [
    "## 10.16"
   ],
   "metadata": {}
  },
  {
   "cell_type": "code",
   "execution_count": null,
   "source": [
    "regex_integer_in_range = r\"^[1-9][0-9]{5}$\"\t# Do not delete 'r'.\n",
    "regex_alternating_repetitive_digit_pair = r\"(\\d)(?=\\d\\1{1})\"\t# Do not delete 'r'.\n",
    "\n",
    "\n",
    "import re\n",
    "P = input()\n",
    "\n",
    "print (bool(re.match(regex_integer_in_range, P)) \n",
    "and len(re.findall(regex_alternating_repetitive_digit_pair, P)) < 2)"
   ],
   "outputs": [],
   "metadata": {}
  },
  {
   "cell_type": "markdown",
   "source": [
    "## 10.17"
   ],
   "metadata": {}
  },
  {
   "cell_type": "code",
   "execution_count": null,
   "source": [
    "#!/bin/python3\n",
    "\n",
    "import math\n",
    "import os\n",
    "import random\n",
    "import re\n",
    "import sys\n",
    "\n",
    "\n",
    "\n",
    "\n",
    "first_multiple_input = input().rstrip().split()\n",
    "\n",
    "n = int(first_multiple_input[0])\n",
    "\n",
    "m = int(first_multiple_input[1])\n",
    "\n",
    "matrix = []\n",
    "s = ''\n",
    "for _ in range(n):\n",
    "    matrix_item = input()\n",
    "    matrix.append(matrix_item)\n",
    "prev_alnum = False\n",
    "\n",
    "for i in range(m):\n",
    "    for j in range(n):\n",
    "        s += matrix[j][i]\n",
    "print(re.sub(r\"(?<=\\w)([^\\w]+)(?=\\w)\", \" \", s))\n"
   ],
   "outputs": [],
   "metadata": {}
  },
  {
   "cell_type": "markdown",
   "source": [
    "## 11.1"
   ],
   "metadata": {}
  },
  {
   "cell_type": "code",
   "execution_count": null,
   "source": [
    "import sys\n",
    "import xml.etree.ElementTree as etree\n",
    "\n",
    "def get_attr_number(node):\n",
    "    s = 0\n",
    "    for el in node.iter():\n",
    "        s += len(el.items())\n",
    "    return s\n",
    "\n",
    "if __name__ == '__main__':\n",
    "    sys.stdin.readline()\n",
    "    xml = sys.stdin.read()\n",
    "    tree = etree.ElementTree(etree.fromstring(xml))\n",
    "    root = tree.getroot()\n",
    "    print(get_attr_number(root))"
   ],
   "outputs": [],
   "metadata": {}
  },
  {
   "cell_type": "markdown",
   "source": [
    "## 11.2"
   ],
   "metadata": {}
  },
  {
   "cell_type": "code",
   "execution_count": null,
   "source": [
    "import xml.etree.ElementTree as etree\n",
    "\n",
    "maxdepth = 0\n",
    "def depth(elem, level):\n",
    "    global maxdepth\n",
    "    if level == maxdepth:\n",
    "        maxdepth = level + 1\n",
    "    for el in elem:\n",
    "        depth(el, level+1)\n",
    "\n",
    "if __name__ == '__main__':\n",
    "    n = int(input())\n",
    "    xml = \"\"\n",
    "    for i in range(n):\n",
    "        xml =  xml + input() + \"\\n\"\n",
    "    tree = etree.ElementTree(etree.fromstring(xml))\n",
    "    depth(tree.getroot(), -1)\n",
    "    print(maxdepth)"
   ],
   "outputs": [],
   "metadata": {}
  },
  {
   "cell_type": "markdown",
   "source": [
    "## 12.1"
   ],
   "metadata": {}
  },
  {
   "cell_type": "code",
   "execution_count": null,
   "source": [
    "def wrapper(f):\n",
    "    def fun(l):\n",
    "        fl = []\n",
    "        for el in l:\n",
    "            if len(el) == 10:\n",
    "                fl.append(el)\n",
    "                #print(\"+91\", el[:5], el[5:])\n",
    "            elif el[0] == '0':\n",
    "                fl.append(el[1:])\n",
    "                #print(\"+91\", el[1:6], el[6:])\n",
    "            elif el [0] == '+':\n",
    "                fl.append(el[3:])\n",
    "                #print(\"+91\", el[3:8], el[8:])\n",
    "            else:\n",
    "                fl.append(el[2:])\n",
    "                #print(\"+91\", el[2:7], el[7:])\n",
    "        fl.sort()\n",
    "        for el in fl:\n",
    "            print(\"+91\", el[:5], el[5:])\n",
    "    return fun\n",
    "\n",
    "@wrapper\n",
    "def sort_phone(l):\n",
    "    print(*sorted(l), sep='\\n')\n",
    "\n",
    "if __name__ == '__main__':\n",
    "    l = [input() for _ in range(int(input()))]\n",
    "    sort_phone(l) \n",
    "\n",
    "\n"
   ],
   "outputs": [],
   "metadata": {}
  },
  {
   "cell_type": "markdown",
   "source": [
    "## 12.2"
   ],
   "metadata": {}
  },
  {
   "cell_type": "code",
   "execution_count": null,
   "source": [
    "import operator\n",
    "\n",
    "def person_lister(f):\n",
    "    def inner(people):\n",
    "        m = sorted(people, key = lambda item: int(item[2]))\n",
    "        return map(f, m)\n",
    "    return inner\n",
    "\n",
    "@person_lister\n",
    "def name_format(person):\n",
    "    return (\"Mr. \" if person[3] == \"M\" else \"Ms. \") + person[0] + \" \" + person[1]\n",
    "\n",
    "if __name__ == '__main__':\n",
    "    people = [input().split() for i in range(int(input()))]\n",
    "    print(*name_format(people), sep='\\n')"
   ],
   "outputs": [],
   "metadata": {}
  },
  {
   "cell_type": "markdown",
   "source": [
    "## 13.1"
   ],
   "metadata": {}
  },
  {
   "cell_type": "code",
   "execution_count": null,
   "source": [
    "import numpy\n",
    "\n",
    "def arrays(arr):\n",
    "    return numpy.array(arr[::-1], float)\n",
    "\n",
    "arr = raw_input().strip().split(' ')\n",
    "result = arrays(arr)\n",
    "print(result)"
   ],
   "outputs": [],
   "metadata": {}
  },
  {
   "cell_type": "markdown",
   "source": [
    "## 13.2"
   ],
   "metadata": {}
  },
  {
   "cell_type": "code",
   "execution_count": null,
   "source": [
    "import numpy as np\n",
    "arr = np.array(input().split(), int)\n",
    "print(np.reshape(arr, (3,3)))"
   ],
   "outputs": [],
   "metadata": {}
  },
  {
   "cell_type": "markdown",
   "source": [
    "## 13.3"
   ],
   "metadata": {}
  },
  {
   "cell_type": "code",
   "execution_count": null,
   "source": [
    "import numpy as np\n",
    "N = list(map(int, input().split()))\n",
    "M = N[1]\n",
    "N = N[0]\n",
    "m = []\n",
    "for _ in range(N):\n",
    "    m.append(list(map(int, input().split())))\n",
    "arr = np.array(m)\n",
    "print(arr.transpose())\n",
    "print(arr.flatten())"
   ],
   "outputs": [],
   "metadata": {}
  },
  {
   "cell_type": "markdown",
   "source": [
    "## 13.4"
   ],
   "metadata": {}
  },
  {
   "cell_type": "code",
   "execution_count": null,
   "source": [
    "import numpy as np\n",
    "\n",
    "N, M, P = map(int, input().split())\n",
    "m = []\n",
    "for _ in range(N+M):\n",
    "    m.append(list(map(int, input().split())))\n",
    "\n",
    "print(np.array(m))"
   ],
   "outputs": [],
   "metadata": {}
  },
  {
   "cell_type": "markdown",
   "source": [
    "## 13.5"
   ],
   "metadata": {}
  },
  {
   "cell_type": "code",
   "execution_count": null,
   "source": [
    "import numpy as np\n",
    "dim = tuple(map(int, input().split()))\n",
    "print (np.zeros(dim, dtype = np.int))\n",
    "print (np.ones(dim, dtype = np.int))"
   ],
   "outputs": [],
   "metadata": {}
  },
  {
   "cell_type": "markdown",
   "source": [
    "## 13.6"
   ],
   "metadata": {}
  },
  {
   "cell_type": "code",
   "execution_count": null,
   "source": [
    "import numpy as np\n",
    "np.set_printoptions(legacy='1.13')\n",
    "n, m = map(int, input().split())\n",
    "print (np.eye(n, m))"
   ],
   "outputs": [],
   "metadata": {}
  },
  {
   "cell_type": "markdown",
   "source": [
    "## 13.7"
   ],
   "metadata": {}
  },
  {
   "cell_type": "code",
   "execution_count": null,
   "source": [
    "import numpy\n",
    "n, m = map(int, input().split())\n",
    "A = []\n",
    "B = []\n",
    "for _ in range(n):\n",
    "    A.append(list(map(int, input().split())))\n",
    "for _ in range(n):\n",
    "    B.append(list(map(int, input().split())))\n",
    "a = numpy.array(A)\n",
    "b = numpy.array(B)\n",
    "print(numpy.add(a, b))\n",
    "print (numpy.subtract(a, b))\n",
    "print (numpy.multiply(a, b))\n",
    "print (numpy.floor_divide(a, b))\n",
    "print (numpy.mod(a, b))\n",
    "print (numpy.power(a, b))"
   ],
   "outputs": [],
   "metadata": {}
  },
  {
   "cell_type": "markdown",
   "source": [
    "## 13.8"
   ],
   "metadata": {}
  },
  {
   "cell_type": "code",
   "execution_count": null,
   "source": [
    "import numpy as np\n",
    "np.set_printoptions(sign=' ')\n",
    "\n",
    "arr = np.array(list(map(float, input().split())))\n",
    "print (np.floor(arr))\n",
    "print (np.ceil(arr))\n",
    "print (np.rint(arr))"
   ],
   "outputs": [],
   "metadata": {}
  },
  {
   "cell_type": "markdown",
   "source": [
    "## 13.9"
   ],
   "metadata": {}
  },
  {
   "cell_type": "code",
   "execution_count": null,
   "source": [
    "import numpy as np\n",
    "\n",
    "n, m = map(int, input().split())\n",
    "arr = []\n",
    "for _ in range(n):\n",
    "    arr.append(list(map(int, input().split())))\n",
    "arr = np.array(arr)\n",
    "print(np.prod(np.sum(arr, axis = 0)))\n"
   ],
   "outputs": [],
   "metadata": {}
  },
  {
   "cell_type": "markdown",
   "source": [
    "## 13.10"
   ],
   "metadata": {}
  },
  {
   "cell_type": "code",
   "execution_count": null,
   "source": [
    "import numpy as np\n",
    "\n",
    "n, m = map(int, input().split())\n",
    "arr = []\n",
    "for _ in range(n):\n",
    "    arr.append(list(map(int, input().split())))\n",
    "arr = np.array(arr)\n",
    "print(np.max(np.min(arr, axis = 1)))\n"
   ],
   "outputs": [],
   "metadata": {}
  },
  {
   "cell_type": "markdown",
   "source": [
    "## 13.11"
   ],
   "metadata": {}
  },
  {
   "cell_type": "code",
   "execution_count": null,
   "source": [
    "import numpy as np\n",
    "\n",
    "n, m = map(int, input().split())\n",
    "arr = []\n",
    "for _ in range(n):\n",
    "    arr.append(list(map(int, input().split())))\n",
    "arr = np.array(arr)\n",
    "print(np.mean(arr, axis=1))\n",
    "print(np.var(arr, axis=0))\n",
    "std = np.std(arr, axis=None)\n",
    "print(np.around(std,decimals=11))\n"
   ],
   "outputs": [],
   "metadata": {}
  },
  {
   "cell_type": "markdown",
   "source": [
    "## 13.12"
   ],
   "metadata": {}
  },
  {
   "cell_type": "code",
   "execution_count": null,
   "source": [
    "import numpy\n",
    "n =int(input())\n",
    "A = []\n",
    "B = []\n",
    "for _ in range(n):\n",
    "    A.append(list(map(int, input().split())))\n",
    "for _ in range(n):\n",
    "    B.append(list(map(int, input().split())))\n",
    "a = numpy.array(A)\n",
    "b = numpy.array(B)\n",
    "print(numpy.dot(a, b))\n"
   ],
   "outputs": [],
   "metadata": {}
  },
  {
   "cell_type": "markdown",
   "source": [
    "## 13.13"
   ],
   "metadata": {}
  },
  {
   "cell_type": "code",
   "execution_count": null,
   "source": [
    "import numpy as np\n",
    "a = np.array(list(map(int, input().split())))\n",
    "b = np.array(list(map(int, input().split())))\n",
    "print(np.inner(a, b))\n",
    "print(np.outer(a, b))"
   ],
   "outputs": [],
   "metadata": {}
  },
  {
   "cell_type": "markdown",
   "source": [
    "## 13.14"
   ],
   "metadata": {}
  },
  {
   "cell_type": "code",
   "execution_count": null,
   "source": [
    "import numpy\n",
    "p = numpy.array(list(map(float, input().split())))\n",
    "x = float(input())\n",
    "print(numpy.polyval(p, x))"
   ],
   "outputs": [],
   "metadata": {}
  },
  {
   "cell_type": "markdown",
   "source": [
    "## 13.15"
   ],
   "metadata": {}
  },
  {
   "cell_type": "code",
   "execution_count": null,
   "source": [
    "import numpy\n",
    "n =int(input())\n",
    "m = []\n",
    "for _ in range(n):\n",
    "    m.append(list(map(float, input().split())))\n",
    "m = numpy.array(m)\n",
    "\n",
    "print(numpy.around(numpy.linalg.det(m),decimals=2))\n"
   ],
   "outputs": [],
   "metadata": {}
  }
 ],
 "metadata": {
  "orig_nbformat": 4,
  "language_info": {
   "name": "python",
   "version": "3.8.8",
   "mimetype": "text/x-python",
   "codemirror_mode": {
    "name": "ipython",
    "version": 3
   },
   "pygments_lexer": "ipython3",
   "nbconvert_exporter": "python",
   "file_extension": ".py"
  },
  "kernelspec": {
   "name": "python3",
   "display_name": "Python 3.8.8 64-bit ('base': conda)"
  },
  "interpreter": {
   "hash": "f14e906f6c55070a077a89cc5717e48c6e6b165b8f84516754651fa338ccc864"
  }
 },
 "nbformat": 4,
 "nbformat_minor": 2
}